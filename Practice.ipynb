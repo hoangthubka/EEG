{
 "cells": [
  {
   "cell_type": "code",
   "execution_count": 1,
   "metadata": {},
   "outputs": [],
   "source": [
    "import numpy as np\n",
    "import pandas as pd\n",
    "\n",
    "import os\n",
    "from os.path import join, isfile, isdir\n",
    "import glob\n",
    "import torch\n",
    "from torch.utils.data import Dataset,DataLoader\n",
    "from torchvision import transforms,models\n",
    "from tqdm import tqdm\n",
    "\n",
    "import cv2\n",
    "import pickle\n",
    "from scipy.stats import pearsonr, spearmanr\n"
   ]
  },
  {
   "cell_type": "code",
   "execution_count": null,
   "metadata": {},
   "outputs": [],
   "source": []
  },
  {
   "cell_type": "code",
   "execution_count": 2,
   "metadata": {},
   "outputs": [],
   "source": [
    "current_path = os.getcwd()\n",
    "DEAP_folder = '/data/EEG_SIGNAL/DEAP'\n",
    "\n",
    "deapfiles = glob.glob(join(DEAP_folder,'data_preprocessed_python','*.dat'))\n",
    "deapfiles = sorted(deapfiles)\n"
   ]
  },
  {
   "cell_type": "markdown",
   "metadata": {},
   "source": [
    "### pickle.load() \n",
    "Read the pickled representation of an object from the open file object file and return the reconstituted object hierarchy specified therein. "
   ]
  },
  {
   "cell_type": "code",
   "execution_count": 3,
   "metadata": {},
   "outputs": [],
   "source": [
    "def get_pearson_corrmap(array_encode):\n",
    "    f = open(deapfiles[array_encode[0]], 'rb')  #array_encode[0] is the order of the participants (32)\n",
    "    \n",
    "    x = pickle.load(f, encoding =\"latin1\") \n",
    "    no_channels = 32 # all 40 channels, related to EEG : 32 channels\n",
    "    channel_patch = []\n",
    "    \n",
    "    for i in range(0, no_channels):\n",
    "        chdata = x[\"data\"][array_encode[1]][i]  #array_encode[1] is the order of the stimulus (40)\n",
    "        chdata = chdata[128*3:-1] # Why 128*3:-1 (Frequency value 128/ 1s - Exclude 3s)\n",
    "        channel_patch.append(chdata)\n",
    "        \n",
    "    \n",
    "    "
   ]
  },
  {
   "cell_type": "code",
   "execution_count": 4,
   "metadata": {},
   "outputs": [],
   "source": [
    "def get_pearson_corrmap(array_encode):\n",
    "    # array_encode[0] is the order of the subject\n",
    "    # array_encode[1] is the order of the trial\n",
    "\n",
    "    f = open(deapfiles[array_encode[0]],'rb')\n",
    "    \n",
    "    x = pickle.load(f,encoding='latin1')\n",
    "    no_channels = 32 \n",
    "    \n",
    "    channel_patch = []\n",
    "    for i in range(0,no_channels):\n",
    "        chdata = x['data'][array_encode[1]][i]\n",
    "        chdata = chdata[128*3:-1]\n",
    "        channel_patch.append(chdata)\n",
    "\n",
    "    corr_mat = np.zeros((32,32))\n",
    "    for i in range(0,no_channels):\n",
    "        for j in range(0,no_channels):\n",
    "            pearson_corr,_ = pearsonr(channel_patch[i],channel_patch[j])\n",
    "            corr_mat[i,j] = pearson_corr\n",
    "\n",
    "    label = x['labels'][array_encode[1]]\n",
    "\n",
    "    return corr_mat, label"
   ]
  },
  {
   "cell_type": "code",
   "execution_count": 5,
   "metadata": {},
   "outputs": [],
   "source": [
    "class Dataloader_img(Dataset):\n",
    "    def __init__(self, list_IDs):\n",
    "        self.list_IDs = list_IDs\n",
    "\n",
    "    def __len__(self):\n",
    "        return len(self.list_IDs)\n",
    "\n",
    "    def __getitem__(self, idx):\n",
    "        # Empty array for image\n",
    "        X = np.empty((32, 32))\n",
    "        # Label\n",
    "        y = np.empty((1))\n",
    "\n",
    "        corr_mat, label = get_pearson_corrmap(self.list_IDs[idx])\n",
    "        corr_mat = (corr_mat+1)/2   # normalize\n",
    "        valence = 1 if label[0] > 5.0 else 0\n",
    "        arousal = 1 if label[1] > 5.0 else 0\n",
    "        corr_mat = np.expand_dims(corr_mat,axis=0)\n",
    "        final_img = np.concatenate([corr_mat,corr_mat,corr_mat],axis=0)\n",
    "\n",
    "        # corr_mat = np.expand_dims(corr_mat,axis=0)\n",
    "        # size image: 32x32x1\n",
    "        valence = np.asarray(valence)\n",
    "        # 0->1\n",
    "        \n",
    "        return {'image': final_img, 'labels':valence}"
   ]
  },
  {
   "cell_type": "code",
   "execution_count": 6,
   "metadata": {},
   "outputs": [],
   "source": [
    "def main():\n",
    "    lr = 1e-4\n",
    "    BATCH_SIZE = 32\n",
    "    num_epochs = 500\n",
    "    num_classes = 1\n",
    "\n",
    "    ignored_value = 1       # leave one subject out\n",
    "    deap_no_trial = 40\n",
    "    deap_no_channels = 32\n",
    "    deap_no_subject = 32\n",
    "    deapval_subject_array = [ignored_value]\n",
    "    deap_trial_array = np.arange(0,deap_no_trial)\n",
    "    deaptrain_subject_array = np.arange(0,deap_no_subject)\n",
    "    deaptrain_subject_array = np.delete(deaptrain_subject_array,ignored_value)\n",
    "\n",
    "    deaptrain_genarray = np.array([[i,j] for i in deaptrain_subject_array for j in deap_trial_array])\n",
    "    deapval_genarray = np.array([[i,j] for i in deapval_subject_array for j in deap_trial_array])\n",
    "\n",
    "    train_dataset = Dataloader_img(deaptrain_genarray)\n",
    "    train_loader = DataLoader(dataset=train_dataset,\n",
    "                              batch_size=BATCH_SIZE,\n",
    "                              num_workers=8,\n",
    "                              shuffle=True)\n",
    "\n",
    "    val_dataset = Dataloader_img(deapval_genarray)\n",
    "    val_loader = DataLoader(dataset=val_dataset,\n",
    "                              batch_size=40,\n",
    "                              num_workers=8,\n",
    "                              shuffle=False)\n",
    "    \n",
    "\n",
    "    model = models.resnet101(num_classes=num_classes, pretrained=True)\n",
    "    model.to(device)\n",
    "    criterion = nn.BCEWithLogitsLoss()\n",
    "    optimizer = torch.optim.Adam(model.parameters(), lr=lr)\n",
    "    \n",
    "    start_time = time.time()\n",
    "\n",
    "    optimizer.zero_grad()\n",
    "    optimizer.step()\n",
    "    for epoch in range(0,num_epochs):\n",
    "        print('Epoch [{}/{}]'.format(epoch, num_epochs))\n",
    "        print('Current learning rate: ',optimizer.param_groups[0]['lr'])\n",
    "        model.train()\n",
    "        cost_list = 0\n",
    "        s_time = time.time()\n",
    "\n",
    "        for batch_idx, sample in enumerate(tqdm(train_loader)):\n",
    "            warnings.filterwarnings(\"ignore\")\n",
    "            # import pdb; pdb.set_trace()a\n",
    "            image = sample['image'].to(device).float()\n",
    "            labels = sample['labels'].to(device).float()\n",
    "            labels = labels.unsqueeze(1)\n",
    "\n",
    "            # import pdb;pdb.set_trace()\n",
    "            # FORWARD AND BACK PROP\n",
    "            out = model(image)\n",
    "            loss = criterion(out,labels)\n",
    "            optimizer.zero_grad()\n",
    "\n",
    "            loss.backward()\n",
    "            optimizer.step()\n",
    "\n",
    "            cost_list += loss.item()\n",
    "        e_time = time.time()-s_time\n",
    "        print('-T: {:.1f}s '.format(e_time), end='')\n",
    "        print(f' Cost: {cost_list / (batch_idx + 1)}')\n",
    "        \n",
    "        model.eval()\n",
    "        with torch.no_grad():\n",
    "            result = []\n",
    "            ground = []\n",
    "            for batch_idx, sample in enumerate(val_loader):\n",
    "                image = sample['image'].to(device).float()\n",
    "                labels = sample['labels'].to(device).float()\n",
    "                out = model(image)\n",
    "                \n",
    "                out = out.cpu().detach().numpy()\n",
    "                label = labels.cpu().detach().numpy()\n",
    "                result.append(out)\n",
    "                ground.append(label)\n",
    "\n",
    "        # import pdb;pdb.set_trace()\n",
    "\n",
    "        result = np.array(result)\n",
    "        result = np.squeeze(result,axis=0)\n",
    "        result = np.squeeze(result,axis=-1)\n",
    "        result = [1  if i>0.5 else 0 for i in result]\n",
    "\n",
    "        ground = np.array(ground)\n",
    "        ground = np.squeeze(ground,axis=0)\n",
    "\n",
    "        a = 0\n",
    "        for i in range(0,40):\n",
    "            if result[i] == ground[i]:\n",
    "                a += 1\n",
    "        acc = a/40\n",
    "        print('eval acc:',acc)\n",
    "        \n",
    "        elapsed = (time.time() - start_time) / 60\n",
    "        print(f'Time elapsed: {elapsed:.2f} min')\n",
    "        \n",
    "        elapsed = (time.time() - start_time) / 60\n",
    "        print(f'Total Training Time: {elapsed:.2f} min')\n",
    "        # torch.save(model.state_dict(), f'./checkpoints/spec_model.pth')\n",
    "        del model\n",
    "        torch.cuda.empty_cache()\n"
   ]
  },
  {
   "cell_type": "code",
   "execution_count": 7,
   "metadata": {},
   "outputs": [
    {
     "ename": "NameError",
     "evalue": "name 'device' is not defined",
     "output_type": "error",
     "traceback": [
      "\u001b[0;31m---------------------------------------------------------------------------\u001b[0m",
      "\u001b[0;31mNameError\u001b[0m                                 Traceback (most recent call last)",
      "\u001b[0;32m<ipython-input-7-fc393e101a54>\u001b[0m in \u001b[0;36m<module>\u001b[0;34m\u001b[0m\n\u001b[1;32m      1\u001b[0m \u001b[0;32mfor\u001b[0m \u001b[0mignored_value\u001b[0m \u001b[0;32min\u001b[0m \u001b[0mrange\u001b[0m\u001b[0;34m(\u001b[0m\u001b[0;36m32\u001b[0m\u001b[0;34m)\u001b[0m\u001b[0;34m:\u001b[0m\u001b[0;34m\u001b[0m\u001b[0;34m\u001b[0m\u001b[0m\n\u001b[1;32m      2\u001b[0m     \u001b[0;32mif\u001b[0m \u001b[0m__name__\u001b[0m \u001b[0;34m==\u001b[0m \u001b[0;34m'__main__'\u001b[0m\u001b[0;34m:\u001b[0m\u001b[0;34m\u001b[0m\u001b[0;34m\u001b[0m\u001b[0m\n\u001b[0;32m----> 3\u001b[0;31m         \u001b[0mmain\u001b[0m\u001b[0;34m(\u001b[0m\u001b[0;34m)\u001b[0m\u001b[0;34m\u001b[0m\u001b[0;34m\u001b[0m\u001b[0m\n\u001b[0m\u001b[1;32m      4\u001b[0m \u001b[0;34m\u001b[0m\u001b[0m\n",
      "\u001b[0;32m<ipython-input-6-0d7b403a04f2>\u001b[0m in \u001b[0;36mmain\u001b[0;34m()\u001b[0m\n\u001b[1;32m     31\u001b[0m \u001b[0;34m\u001b[0m\u001b[0m\n\u001b[1;32m     32\u001b[0m     \u001b[0mmodel\u001b[0m \u001b[0;34m=\u001b[0m \u001b[0mmodels\u001b[0m\u001b[0;34m.\u001b[0m\u001b[0mresnet101\u001b[0m\u001b[0;34m(\u001b[0m\u001b[0mnum_classes\u001b[0m\u001b[0;34m=\u001b[0m\u001b[0mnum_classes\u001b[0m\u001b[0;34m,\u001b[0m \u001b[0mpretrained\u001b[0m\u001b[0;34m=\u001b[0m\u001b[0;32mTrue\u001b[0m\u001b[0;34m)\u001b[0m\u001b[0;34m\u001b[0m\u001b[0;34m\u001b[0m\u001b[0m\n\u001b[0;32m---> 33\u001b[0;31m     \u001b[0mmodel\u001b[0m\u001b[0;34m.\u001b[0m\u001b[0mto\u001b[0m\u001b[0;34m(\u001b[0m\u001b[0mdevice\u001b[0m\u001b[0;34m)\u001b[0m\u001b[0;34m\u001b[0m\u001b[0;34m\u001b[0m\u001b[0m\n\u001b[0m\u001b[1;32m     34\u001b[0m     \u001b[0mcriterion\u001b[0m \u001b[0;34m=\u001b[0m \u001b[0mnn\u001b[0m\u001b[0;34m.\u001b[0m\u001b[0mBCEWithLogitsLoss\u001b[0m\u001b[0;34m(\u001b[0m\u001b[0;34m)\u001b[0m\u001b[0;34m\u001b[0m\u001b[0;34m\u001b[0m\u001b[0m\n\u001b[1;32m     35\u001b[0m     \u001b[0moptimizer\u001b[0m \u001b[0;34m=\u001b[0m \u001b[0mtorch\u001b[0m\u001b[0;34m.\u001b[0m\u001b[0moptim\u001b[0m\u001b[0;34m.\u001b[0m\u001b[0mAdam\u001b[0m\u001b[0;34m(\u001b[0m\u001b[0mmodel\u001b[0m\u001b[0;34m.\u001b[0m\u001b[0mparameters\u001b[0m\u001b[0;34m(\u001b[0m\u001b[0;34m)\u001b[0m\u001b[0;34m,\u001b[0m \u001b[0mlr\u001b[0m\u001b[0;34m=\u001b[0m\u001b[0mlr\u001b[0m\u001b[0;34m)\u001b[0m\u001b[0;34m\u001b[0m\u001b[0;34m\u001b[0m\u001b[0m\n",
      "\u001b[0;31mNameError\u001b[0m: name 'device' is not defined"
     ]
    }
   ],
   "source": [
    "for ignored_value in range(32): \n",
    "    if __name__ == '__main__':\n",
    "        main()\n",
    "    "
   ]
  },
  {
   "cell_type": "code",
   "execution_count": 26,
   "metadata": {},
   "outputs": [],
   "source": []
  },
  {
   "cell_type": "code",
   "execution_count": 27,
   "metadata": {},
   "outputs": [],
   "source": [
    "# lr = 1e-4\n",
    "# BATCH_SIZE = 32\n",
    "# num_epochs = 100\n",
    "# num_classes = 1\n",
    "\n",
    "# ignored_value = 8       # leave one subject out\n",
    "# deap_no_trial = 40\n",
    "# deap_no_channels = 32\n",
    "# deap_no_subject = 32\n",
    "# deapval_subject_array = [ignored_value]\n",
    "# deap_trial_array = np.arange(0,deap_no_trial)\n",
    "# deaptrain_subject_array = np.arange(0,deap_no_subject)\n",
    "# deaptrain_subject_array = np.delete(deaptrain_subject_array,ignored_value)\n",
    "\n",
    "# deaptrain_genarray = np.array([[i,j] for i in deaptrain_subject_array for j in deap_trial_array])\n",
    "# deapval_genarray = np.array([[i,j] for i in deapval_subject_array for j in deap_trial_array])\n",
    "\n",
    "# train_dataset = Dataloader_img(deaptrain_genarray)\n",
    "# train_loader = DataLoader(dataset=train_dataset,\n",
    "#                           batch_size=BATCH_SIZE,\n",
    "#                           num_workers=8,\n",
    "#                           shuffle=True)\n",
    "\n",
    "# val_dataset = Dataloader_img(deapval_genarray)\n",
    "# val_loader = DataLoader(dataset=val_dataset,\n",
    "#                           batch_size=40,\n",
    "#                           num_workers=8,\n",
    "#                           shuffle=False)"
   ]
  },
  {
   "cell_type": "code",
   "execution_count": 28,
   "metadata": {},
   "outputs": [
    {
     "name": "stdout",
     "output_type": "stream",
     "text": [
      "<class '__main__.Dataloader_img'>\n"
     ]
    }
   ],
   "source": [
    "print(type(train_dataset))"
   ]
  },
  {
   "cell_type": "code",
   "execution_count": 29,
   "metadata": {},
   "outputs": [
    {
     "name": "stdout",
     "output_type": "stream",
     "text": [
      "1240\n"
     ]
    }
   ],
   "source": [
    "print(len(train_dataset))"
   ]
  },
  {
   "cell_type": "code",
   "execution_count": 30,
   "metadata": {},
   "outputs": [
    {
     "name": "stdout",
     "output_type": "stream",
     "text": [
      "39\n"
     ]
    }
   ],
   "source": [
    "print(len(train_loader))"
   ]
  },
  {
   "cell_type": "code",
   "execution_count": 31,
   "metadata": {},
   "outputs": [
    {
     "name": "stdout",
     "output_type": "stream",
     "text": [
      "40\n"
     ]
    }
   ],
   "source": [
    "print(len(val_dataset))"
   ]
  },
  {
   "cell_type": "code",
   "execution_count": 32,
   "metadata": {},
   "outputs": [
    {
     "name": "stdout",
     "output_type": "stream",
     "text": [
      "1\n"
     ]
    }
   ],
   "source": [
    "print(len(val_loader))"
   ]
  },
  {
   "cell_type": "code",
   "execution_count": null,
   "metadata": {},
   "outputs": [],
   "source": []
  }
 ],
 "metadata": {
  "kernelspec": {
   "display_name": "Python 3",
   "language": "python",
   "name": "python3"
  },
  "language_info": {
   "codemirror_mode": {
    "name": "ipython",
    "version": 3
   },
   "file_extension": ".py",
   "mimetype": "text/x-python",
   "name": "python",
   "nbconvert_exporter": "python",
   "pygments_lexer": "ipython3",
   "version": "3.8.3"
  }
 },
 "nbformat": 4,
 "nbformat_minor": 4
}
